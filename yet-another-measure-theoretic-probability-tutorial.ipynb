{
 "cells": [
  {
   "cell_type": "markdown",
   "metadata": {
    "deletable": true,
    "editable": true
   },
   "source": [
    "# yet-another-measure-theoretic-probability-tutorial\n",
    "Yet another measure theoretic probability tutorial\n",
    "\n",
    "I made these notes after reading the following:\n",
    "\n",
    "- [\"A Measure Theory Tutorial ( Measure Theory for Dummies )\"](http://mayagupta.org/publications/GuptaMeasureTheoryTutorial.pdf), Gupta, 2006\n",
    "- [\"Outline of Lebesgue theory: a heuristic introduction\"](https://dspace.mit.edu/bitstream/handle/1721.1/4772/RLE-TR-310-04734599.pdf), Wernikoff. 1957 :-)\n",
    "- [MIT Opencourseware \"Fundamentals of probability\"](https://ocw.mit.edu/courses/electrical-engineering-and-computer-science/6-436j-fundamentals-of-probability-fall-2008/lecture-notes/), Gamarnik and Tsitsiklis, 2008\n",
    "\n",
    "^^^ all of these references are awesome :-)\n",
    "\n",
    "I'm a beginner to measure theoretic probability. Some things were fairly easy to grasp, but there were a few gotchas. Partly because writing things out helps me to get things straight in my head, and partly just in case it's useful, I'm documenting these 'gotcha's here, and my attempted solutions/resolutioins to them. I use the word 'handwavingly' a lot, to mean 'this probably/certainly isnt mathematically rigorous, but does seem to make some kind of intuitive sense?'.\n",
    "\n",
    "Note that I didnt quite finish the Wernikoff report (yet). I've read the first 6 chapters or so. Similarly, I'm still working my way through the MIT opencourseware lectures, in a random non-sequential way. It's total possible that bits I've skimmed over, or not read yet, answer my gotchas, in a way more clear than what I've written here\n",
    "\n",
    "## Contents\n",
    "\n",
    "- How to represent a Gaussian? How to represent multiple Gaussians?\n",
    "- Expectation, using Lebesgue integration\n",
    "\n",
    "## How to represent a Gaussian? How to represent multiple Gaussians?\n",
    "\n",
    "But, there was a question that I couldnt quite figure out for ages, a little tiny gap in my knowledge. And that was, imagine we have two variables $X$ and $Y$, and they're each Gaussians. Some questions in my mind:\n",
    "\n",
    "- in the measure theoretic framework, how do we represent a Gaussian? Where does the equation for the Gaussian, the exponential in $-x^2$ \"go\"? Is it in the $X$? in the $\\mathbb{P}$? Somewhere else?\n",
    "- how do we represent both $X$ and $Y$,in the same space? Since we already \"used up\" $\\mathbb{P}$ for $X$, what do we do for $Y$? Do we have two $\\mathbb{P}$s? Or ... ?\n",
    "\n",
    "These notes provide answers to these questions that took me ages to figure out :-)  Note that the question of handling two Gaussians is in fact covered by chapter 13 of the MIT course, but it took me a lot of time, pain, reading, to get that far.\n",
    "\n",
    "I'm going to assume you read the Gupta tutorial.  It's short, easy to read, very complete and awesome :-)\n",
    "\n",
    "So, imagine we have two Gaussians, represented by random variables $X$ and $Y$, and we want to form $aX + bY$, or perhaps $XY$, for whatever reason. And we want to use measure theory. Just because. Well, because anything that looks like it will help with figuring out these formulae seems to use measure theory. So, after reading the first couple of references above, for measure theory, we have a probability space $(\\Omega, \\mathcal{F}, \\mathbb{P})$, which is as follows:\n",
    "\n",
    "- $\\Omega$ is the sample space.  It's the space of all possible outcomes. eg if we were to roll a dice, this would be the set $\\{1, 2, 3, 4, 5, 6\\}$\n",
    "- $\\mathcal{F}$ is a set of subsets of $\\Omega$. It represents different things we might want to observe. Like \"the dice was at least 3\", which would be the set $\\{3,4,5,6\\}$. $\\mathcal{F}$ should basically contain all possible subsets of $\\Omega$, in a hand-waving way, which is probably good enough for now\n",
    "- $\\mathbb{P}$ assigns a probability to each $\\omega \\in \\Omega$. Or more concretely, to each the subsets $F \\in \\mathcal{F}$ ie, we can obtain $\\mathbb{P}(\\{\\omega : \\omega \\in F \\})$, for any $F \\in \\mathcal{F}$.\n",
    "\n",
    "Ok, so lets say we have the Gaussian $X$. How does this fit in to this? $X$ is a random variable, which is simply a mapping, from $\\Omega$ to some other space $\\mathbb{R}$, the line of reals, or technically to $(\\mathbb{R}, \\mathcal{R})$, though note that each subset $F \\in \\mathcal{F}$ will only map to a single point in $\\mathbb{R}$.\n",
    "\n",
    "To define a Gaussian, normally we have some formula like $\\exp(-(x - \\mu)^2/2\\sigma^2)$, normalized appropriately, or a multivariate variation on this. How doees this fit into this framework?\n",
    "\n",
    "The probability is represented by the $\\mathbb{P}$ bit. For each subset of $\\Omega$, we have a probability value. In the case of a Gaussian, we'd probably want $\\Omega$ to be just the line of reals, $\\mathbb{R}$, or possibly in multidimensions, ie $\\mathbb{R}^d$. But lets assume its in one dimension for now. And $\\mathcal{F}$ will then just be all possible intervals on the real line, and unions of intervals, and intersections of intervals, and so on. And $\\mathbb{P}(F)$ will be the gaussian equation, ie:\n",
    "\n",
    "$$\n",
    "\\mathbb{P}(F) \\propto \\sum_{\\omega \\in F} \\exp\\left(- \\frac{(\\omega- \\mu)^2}{2\\sigma^2}\\right)\n",
    "$$\n",
    "\n",
    "Ok ... but .... we have two gaussians, one for $Y$. How does that fit in?\n",
    "\n",
    "So, let's concretize this a bit. What do our Gaussians represent? Maybe $X$ is the distance it takes a car to stop, in an experiment. It's a real number, and let's say it's distributed as a Gaussian. $\\Omega$ is all possible stopping distances. $\\mathcal{F}$ is all possible subsets of stopping distances, in a hand-waving way. And $\\mathbb{P}(\\omega)$ is the Gaussian formula above. And $X$ itself? It can simply be $\\omega$, ie $X(\\omega) = \\omega$.\n",
    "\n",
    "So, now ... $Y$.... it wont have the same $\\mathbb{P}$. How do we handle this? But thinking through the concretization, $Y$ might represent the stopping distance of a second car. And now it starts to become obvious: the sample space $\\Omega$ should contain the possible outcomes from both experiments combined: each possible stopping distance for the first car, and each possible stopping distance for the second car, combined in a Cartesian way, like eg \"(car1 = 1.5, car2= 3.0)\", and another sample could be \"(car1=2.3, car2=5.7)\". How to combine these? Each of these, on their own, was a line in $\\mathbb{R}$. We can combine them by simply giving each of them their own axis in $\\mathbb{R}$. So the sample space $\\Omega$ will now be in $\\mathbb{R}^2$.\n",
    "\n",
    "So, now we will have one single sample space $\\Omega$, that combines all possible outcomes for car 1 with all possible outcomes for car 2, in a Cartesian way. And then now we can express $\\mathbb{P}$ for the first car, and $\\mathbb{P}$ for the second car, and $\\mathbb{P}$ for each of these possible combined outcomes. If the cars' stopping distances are independent of each other, then $\\mathbb{P}$ for each possible outcome $\\omega \\in \\Omega$ is a multivariate Gaussian, where the covariance matrix will be diagonal, since no covariance. The $\\mathbb{P}$ for the first and second car can be obtained from this $\\mathbb{P}$ by marginalization. Or possibly projection. Either way, we now have one single probability space $(\\Omega, \\mathcal{F}, \\mathbb{P})$, which represents all possible outcomes of an experiment involving the two cars, and where the $\\mathcal{F}$ represents all possible subsets of such outcomes, eg \"first car stops in less than 3, and second car in more then 2\".\n",
    "\n",
    "$X$ in this case will be simply the value of the first axis in $\\omega$, ie the projection onto the first axis. $Y$ similarly will be the projection onto the second axis.\n",
    "\n",
    "So, now we can consider what is $aX + bY$, or $XY$, since both $X$ and $Y$ are simply functions of the exact same probability space. I'm not going to do that here, since there are plenty of resources describing how to do that, eg the MIT Opencourseware \"Fundamentals of probability\" course, which is awesome :-)\n"
   ]
  },
  {
   "cell_type": "markdown",
   "metadata": {
    "deletable": true,
    "editable": true
   },
   "source": [
    "# Expectation, using Lebesgue integration"
   ]
  },
  {
   "cell_type": "markdown",
   "metadata": {
    "deletable": true,
    "editable": true
   },
   "source": [
    "Something else I took a while to get my head around was, how to understand:\n",
    "\n",
    "$$\n",
    "\\mathbb{E} = \\int_\\Omega X(\\omega) \\,d\\mathbb{P}\n",
    "$$\n",
    "\n",
    "I couldnt really figure out the $d\\mathbb{P}$ bit in the integral. Ultimately, I think that I was tripping up because I was reading $d\\mathbb{P}$ as \"by $\\mathbb{P}$\". I was imagining the 'd' bit as dividing the space into a grid, and then we add up the values of $X(\\Omega)$, across the grid, assigning equal weight to each strip. But actually, I think the 'd' bit is more like the width/weight of each strip. I think its easier for me to understand if I verbalize the 'd' bit as \"multiplied by $d\\mathbb{P}$\", and the \"d\" bit is just the width of a verticle strip in the graph. So, we divide the graph into vertical strips, and each strip will be $X$ high, and $d\\mathbb{P}$ wide, and we add/integrate those all together.\n",
    "\n",
    "But how does this fit into Lebesgue? Doesnt Lebesgue swap vertical strips with horizontal strips? Actually, no, it turns out that the strips are still vertical. But, working through this in detail, starting with Riemann integrals."
   ]
  },
  {
   "cell_type": "markdown",
   "metadata": {},
   "source": [
    "### Riemann integration"
   ]
  },
  {
   "cell_type": "markdown",
   "metadata": {
    "deletable": true,
    "editable": true
   },
   "source": [
    "Let's say we want to integrate $f(x)$ with respect to $x$, and we are using Riemann integrals. We write:\n",
    "\n",
    "$$\n",
    "\\int f(x)\\,dx\n",
    "$$"
   ]
  },
  {
   "cell_type": "markdown",
   "metadata": {
    "deletable": true,
    "editable": true
   },
   "source": [
    "And let's integrate between $a$ and $b$:\n",
    "\n",
    "$$\n",
    "\\int_{x=a}^b  f(x)\\,dx\n",
    "$$\n",
    "\n",
    "Pictorially, it's something like, if we say that $a=0$, and $b=5$, and here $f(x) = x^2$:"
   ]
  },
  {
   "cell_type": "code",
   "execution_count": 22,
   "metadata": {
    "collapsed": false,
    "deletable": true,
    "editable": true
   },
   "outputs": [
    {
     "data": {
      "image/png": "[encoded data removed]",
      "text/plain": [
       "<matplotlib.figure.Figure at 0x7fee5ccd9f98>"
      ]
     },
     "metadata": {},
     "output_type": "display_data"
    }
   ],
   "source": [
    "import matplotlib.pyplot as plt\n",
    "import numpy as np\n",
    "import math\n",
    "\n",
    "\n",
    "x_min = 0\n",
    "x_max = 5\n",
    "X = np.arange(x_min, x_max)\n",
    "# y = np.exp(-np.power(X, 2))\n",
    "y = np.power(X, 2)\n",
    "for i, x in enumerate(X):\n",
    "    y_ = y[i]\n",
    "    plt.plot([x, x, x + 1, x + 1, x], [0, y_, y_, 0, 0])\n",
    "#     print(i, x)\n",
    "plt.plot(X, y)\n",
    "plt.show()"
   ]
  },
  {
   "cell_type": "markdown",
   "metadata": {
    "deletable": true,
    "editable": true
   },
   "source": [
    "If we define $dx$ as the width of each strip, then the area of each strip is:\n",
    "\n",
    "$$\n",
    "f(x)\\, dx\n",
    "$$\n",
    "\n",
    "And if we have $N$ strips the total area of the strips is:\n",
    "\n",
    "$$\n",
    "\\sum_{i=1}^N f(x_i)\\,dx\n",
    "$$\n",
    "\n",
    ".... where $x_i$ is the left hand edge of the $i$th strip."
   ]
  },
  {
   "cell_type": "markdown",
   "metadata": {
    "deletable": true,
    "editable": true
   },
   "source": [
    "So, we basically add up the area of each strip. The area of each strip is its height, multiplied by $dx$.\n",
    "\n",
    "So we can think of Riemann integration as the limit:\n",
    "\n",
    "$$\n",
    "\\int f(x) \\, dx\n",
    "=\n",
    "\\lim_{N \\rightarrow \\infty}\n",
    "\\sum_{i=1}^N f(x_i)\\,dx\n",
    "$$\n",
    "\n",
    "...where here $dx$ is a constant, $(b - a) / N$, and $x_i$ is the $x$-coordinate of the left-hand side of the $i$-th strip."
   ]
  },
  {
   "cell_type": "markdown",
   "metadata": {},
   "source": [
    "### Lebesgue integration"
   ]
  },
  {
   "cell_type": "markdown",
   "metadata": {
    "deletable": true,
    "editable": true
   },
   "source": [
    "In Lebesgue integration, the strips will ~~be horizontal~~ still be vertical, just the way that they are constructed is mildly different. Basically, the vertical strips will correspond to bits of the graph having specific ranges of $f(x)$ values. We're going to divide the ordinate axis into $N$ intervals. But crucially, even though we are dividing the ordinate axis into equal-sized intervals, the strips we integrate/sum over will still be vertical.\n",
    "\n",
    "For the function above, one set of strips, where here we have $N=25$ strips, could look something like:\n"
   ]
  },
  {
   "cell_type": "code",
   "execution_count": 3,
   "metadata": {
    "collapsed": false,
    "deletable": true,
    "editable": true
   },
   "outputs": [
    {
     "data": {
      "image/png": "[encoded data removed]",
      "text/plain": [
       "<matplotlib.figure.Figure at 0x7ffa39729898>"
      ]
     },
     "metadata": {},
     "output_type": "display_data"
    }
   ],
   "source": [
    "import matplotlib.pyplot as plt\n",
    "import numpy as np\n",
    "import math\n",
    "\n",
    "\n",
    "x_min = 0\n",
    "x_max = 5\n",
    "\n",
    "y_min = x_min * x_min\n",
    "y_max = x_max * x_max\n",
    "Y = np.arange(y_min, y_max)\n",
    "X = np.sqrt(Y)\n",
    "for i, y in enumerate(Y):\n",
    "    if i + 1 == X.shape[0]:\n",
    "        break\n",
    "    x1 = X[i]\n",
    "    x2 = X[i + 1]\n",
    "    plt.plot(\n",
    "        [x1, x2, x2, x1, x1],\n",
    "        [y, y, 0, 0, y])\n",
    "plt.plot(X, Y)\n",
    "plt.show()"
   ]
  },
  {
   "cell_type": "markdown",
   "metadata": {},
   "source": [
    "So, for Lebesgue:\n",
    "\n",
    "- the strips are defined by partitioning the ordinate axis into equal sized intervals (at least, this is one convenient way to do the partition),\n",
    "- but: the strips themselves are still vertical\n",
    "\n",
    "So, the area of each strip is still, as per Riemann, the product of $f(x)$ and the width of the strip. The height of the strip will be some finite value, ie $f(x)$. The width of the strip will tend to 0, in our integration limit, just as per Riemann.\n",
    "\n",
    "However, the width of each strip is no longer fixed, no longer a constant. In Riemann, the width of each strip is $(b - a)/N$, which is constant, for a given value of $N$. But in Lebesgue integration, the width of the strips will vary, as we move along the x-axis.\n",
    "\n",
    "The first thing to note is that the x-coordinate of the left and right edge of each strip will now be a function of the function we are integrating, $f(x)$. In the general case, the set of $x$-values for each strip will be:\n",
    "\n",
    "$$\n",
    "\\{ x: y_i \\le f(x) < y_{i+1} \\}\n",
    "$$\n",
    "\n",
    "There is no assumption here that $f(x)$ is monotonic, onto, or continuous. So, in the general case, there might be no inverse function $f^{-1}$. However, in our case, our example function is continuous, strictly monotonically increasing, and therefore onto, so the inverse function does exist, and each set $i$ will be an interval:\n",
    "\n",
    "$$\n",
    "\\left[\\sqrt{y_i}, \\sqrt{y_{i+1}}\\right) = \\left\\{\\sqrt{y_i} \\le x < \\sqrt{y_{i+1}} \\right\\}\n",
    "$$\n",
    "\n",
    "This is not true in the general case, but does simplify this specific example.\n",
    "\n",
    "Now, for Lebesgue integration, in the general case, the width of each strip will be a measure $\\mu(\\{x\\})$, which can be any arbitrary measure function. However, for the sake of simplicity, let's use the Lebesgue measure. For an interval along the x-axis, the Lebesgue measure is simply the length of the interval, along the x-axis:\n",
    "\n",
    "$$\n",
    "\\mu(\\{x: a \\le x < b\\}) = b - a\n",
    "$$\n",
    "\n",
    "which for our simple example will be, for a strip $i$:\n",
    "\n",
    "$$\n",
    "\\mu(\\{x: \\sqrt{y_{i}} \\le x < \\sqrt{y_{i+1}}\\}) = \\sqrt{y_{i+1}} - \\sqrt{y_i}\n",
    "$$\n",
    "\n",
    "And the sum of the area of the strips will be:\n",
    "\n",
    "$$\n",
    "\\sum_{i=1}^N y_i(\\sqrt{y_{i+1}} - \\sqrt{y_i})\n",
    "$$\n",
    "\n",
    "But in the general case, we wont have such inverse one-to-one mappings, and so the area will be:\n",
    "\n",
    "$$\n",
    "\\sum_{i=1}^N y_i \\mu(\\{x: y_{i} \\le f(x) < y_{i+1}\\})\n",
    "$$\n",
    "\n",
    "$\\mu$ here will tend to 0 as $N \\rightarrow \\infty$. If we write hand-wavingly $d\\mu_i = \\mu(\\{x: y_{i} \\le f(x) < y_{i+1}\\})$, then we have:\n",
    "\n",
    "$$\n",
    "\\sum_{i=1}^N y_i \\, d\\mu_i\n",
    "$$\n",
    "\n",
    "This then resembles quite closely the notation for a Lebesgue integral, which for our case would be:\n",
    "\n",
    "$$\n",
    "\\int_x f(x)\\, d\\mu\n",
    "$$\n",
    "\n",
    "ie,\n",
    "\n",
    "$$\n",
    "\\int_x y\\,d\\mu\n",
    "$$\n"
   ]
  },
  {
   "cell_type": "markdown",
   "metadata": {},
   "source": [
    "Sooo... basically in both Riemann and Lebesgue integration:\n",
    "\n",
    "- the strips are vertical\n",
    "- we can think intuitively of the $dx$ or $d\\mu$ bit as representing the width of each strip\n",
    "\n",
    "Handwavingly, when we see:\n",
    "\n",
    "$$\n",
    "\\int_x y \\, d\\mu\n",
    "$$\n",
    "\n",
    "we can imagine a bunch of strips, whose sum is:\n",
    "\n",
    "$$\n",
    "\\sum_i y_i \\, d\\mu_i\n",
    "$$\n",
    "\n",
    "ie, the 'd' bit in the integral is the width of the strip, and is multiplied by the rest of the expression being integrated, hand-wavingly.\n",
    "\n",
    "By replacing the verbalization of \"by x\", with \"times\" in \"integrating f by dx\", and saying instead \"integrating f times dx\", I think this makes intuitively more sense, personally.\n",
    "\n",
    "The fact that the width of strips is the value of the measure of each strip means that strips with larger measure, ie larger $d\\mu$, will contribute correspondingly more to the overall integral. This intuition will be useful for looking at expectation, in a Lebesgue context. Let's do that next."
   ]
  },
  {
   "cell_type": "markdown",
   "metadata": {
    "deletable": true,
    "editable": true
   },
   "source": [
    "### Expectation\n",
    "\n",
    "The Lebesgue, measure theoretical, formula for expectation is:\n",
    "\n",
    "$$\n",
    "\\mathbb{E}[X] = \\int_\\Omega X \\, d\\mathbb{P}\n",
    "$$\n",
    "\n",
    "How to make sense of this? Let's first write the Riemann formula for expectation, for comparison. It is something like:\n",
    "\n",
    "$$\\mathbb{E}[X] = \\int x \\, p(x) \\, dx$$\n",
    "\n",
    "The Riemann expectation involves one variable, $x$, and one function of $x$, ie $p(x)$, ie we have:\n",
    "\n",
    "- $x$\n",
    "- $p(x)$\n",
    "\n",
    "In the Lebesgue, measure-theory, world, there is still one variable, which is $\\omega \\in \\Omega$, but now there are two functions of this variable, ie $X(\\omega)$ and $\\mathbb{P}(\\{\\omega\\})$.  So, we have three things to consider:\n",
    "\n",
    "- $\\omega$\n",
    "- $X(\\omega)$\n",
    "- $\\mathbb{P}(\\{\\omega\\})$\n",
    "\n",
    "\n",
    "\n",
    "\n",
    "Actually, it is similar to the Riemann version, except that we have the underlying variable $\\omega$. If we take $X(\\omega) = \\omega$, then $X(\\omega)$ corresponds to the $x$ in the Riemann version. Meanwhile, $\\mathbb{P}(\\{\\omega\\})$ corresponds to the $p(x)$ in the Riemann version. The only thing is that $\\mathbb{P}(\\{\\omega\\})$ is defined over sets of $\\omega$ values, rather than defined for specific values of $x$, as in the Riemann version.\n",
    "\n",
    "So, we can think of varying $\\omega$, or actually, varying sets of $\\omega$, and $X(\\omega)$ and $\\mathbb{P}(\\{\\omega\\})$ will vary as we move over the various sets of $\\omega$ in $\\Omega$. These sets are all in $\\mathcal{F}$, assuming a probability space of $(\\Omega, \\mathcal{F}, \\mathbb{P})$. But we wont walk over all $F \\in \\mathcal{F}$, since that will include a bunch of overlapping sets. We will presumably want to walk over disjoint sets of $\\Omega$, eg $\\{A_i \\in \\Omega \\}$, such that:\n",
    "\n",
    "- $A_i \\cap A_j = \\emptyset \\text{ for all } i \\ne j$, and\n",
    "- $\\bigcup_{i=1}^N A_i = \\Omega$\n",
    "\n",
    "ie, some partition of $\\Omega$ into disjoint sets.\n",
    "\n",
    "Then, the Lebesgue integration will look something like:\n",
    "\n",
    "$$\n",
    "\\int_\\Omega X\\,d\\mathbb{P} = \\lim_{N \\rightarrow \\infty} \\sum_{i=1}^N X(A_i) \\mathbb{P}(A_i)\n",
    "$$\n",
    "\n",
    "where $A_i$ is defined as above, ie some partition of $\\Omega$ into $N$ subsets.\n",
    "\n",
    "Note that this maths isnt quite rigorous, since $X$ is a mapping, a function, from a single value of $\\omega$ to a single real $\\mathbb{R}$. I'm not sure that this mapping is onto. But I'm fairly sure it's not from a set of $\\omega$ values but from a single $\\omega$ value, onto a single real, $X : \\Omega \\rightarrow \\mathbb{R}$.\n",
    "\n",
    "Whereas in the expression above, we have written $X(A_i)$, and $A_i$ is a set of $\\omega$ values. So, probably we should use some single representative $\\omega$ value, in order to calculate $X$. And presumably at this point this means that the partioning of $\\Omega$ into sets $A_i$ should be such that the values of $X(\\Omega)$ for the set of $\\omega$ in each set $A_i$ should be approximately similar, within each set $A_i$. Probably the partitioning should be such that as $N \\rightarrow \\infty$, then within each set $A_i$, the minimum and maximum value value of $X$ within each set tend to the same value. ie, we'll want something like:\n",
    "\n",
    "$$\n",
    "\\lim_{N \\rightarrow \\infty}(\\min(\\{X(\\omega): \\omega \\in A_i\\}) = \\lim_{N \\rightarrow \\infty}(\\max(\\{X(\\omega): \\omega \\in A_i\\}) \\qquad \\text{for all } i \\in \\{ 1, \\dots, N \\}\n",
    "$$\n",
    "\n",
    "So, let's assume we have found an appropriate partition of $\\Omega$ into subsets $A_i$, such that the above convergence holds, and then let's replace $X(A_i)$ with $\\min(\\{X(\\omega):\\omega \\in A_i\\})$, so we have:\n",
    "\n",
    "$$\n",
    "\\int_\\Omega X\\,d\\mathbb{P} = \\lim_{N \\rightarrow \\infty} \\sum_{i=1}^N \\min(\\{X(\\omega):\\omega \\in A_i\\}) \\mathbb{P}(A_i)\n",
    "$$\n",
    "\n",
    "That's kind of messy to write though, so let's define $x_i = \\min(\\{X(\\omega):\\omega \\in A_i\\})$. And then we have:\n",
    "\n",
    "$$\n",
    "\\int_\\Omega X\\,d\\mathbb{P} = \\lim_{N \\rightarrow \\infty} \\sum_{i=1}^N x_i \\mathbb{P}(A_i)\n",
    "$$\n",
    "\n",
    "Then, we can see that this corresponds approximately to the Riemann integration:\n",
    "\n",
    "$$\n",
    "\\int x \\, p(x) \\, dx = \\lim_{N \\rightarrow \\infty} \\sum_{i=1}^N x \\, p(x) \\, dx\n",
    "$$\n",
    "\n",
    "where using $dx$ handwavingly here to denote the width of each of the strips, in the Riemann version.\n",
    "\n",
    "But, in the Lebesgue version, we just have two terms:\n",
    "\n",
    "- $x_i$\n",
    "- $\\mathbb{P}(A_i)$\n",
    "\n",
    "... wheras in the Riemann version we have three terms:\n",
    "\n",
    "- $x$\n",
    "- $p(x)$\n",
    "- $dx$\n",
    "\n",
    "How to make intuitive sense of this?\n",
    "\n",
    "So, thinking about it, $\\mathbb{P}(A_i)$ is the measure of the subset $A_i$. It contains both the probability of $A_i$, and is a measure of some kind of the 'size' of $A_i$. In a sense, we could think of $\\mathbb{P}(A_i)$ as composed of two terms. If we use $\\mu(\\cdot)$ to represent the Lebesgue measure, then we can write handwavingly:\n",
    "\n",
    "$$\n",
    "\\mathbb{P}(A_i) \\approx \\mathrm{average}(\\mathbb{P}(A_i)) \\,\\, \\mu(A_i)\n",
    "$$\n",
    "\n",
    "where here, I suppose \"average\" could be:\n",
    "\n",
    "$$\n",
    "\\mathrm{average}(\\mathbb{P}(A_i)) = \\frac{\\mathbb{P}(A_i) }{ \\mu(A_i)}\n",
    "$$\n",
    "\n",
    "It's then probably true to replace the $\\approx$ with equality:\n",
    "\n",
    "$$\n",
    "\\mathbb{P}(A_i) = \\frac{\\mathbb{P}(A_i)}{\\mu(A_i)} \\,\\, \\mu(A_i)\n",
    "$$\n",
    "\n",
    "and let's define $p_i = \\mathbb{P}(A_i) / \\mu(A_i)$. So we have:\n",
    "\n",
    "$$\n",
    "\\mathbb{P}(A_i) = p_i \\,\\, \\mu(A_i)\n",
    "$$\n",
    "\n",
    "and then writing $\\mu(A_i)$ as $d\\mu_i$, then we have, handwavingly:\n",
    "\n",
    "$$\n",
    "\\int_\\Omega X\\,d\\mathbb{P} = \\lim_{N \\rightarrow \\infty} \\sum_{i=1}^N x_i\\, p_i \\, d\\mu_i\n",
    "$$\n",
    "\n",
    "So, now we have for the Riemann version:\n",
    "\n",
    "- $x$\n",
    "- $p(x)$\n",
    "- $dx$\n",
    "\n",
    "For the Lebesgue version:\n",
    "\n",
    "- $x_i$\n",
    "- $p_i$\n",
    "- $d\\mu_i$\n",
    "\n",
    "We can then see a correspondance between the terms in both the Lebesgue and the Riemann versions.\n",
    "\n",
    "So, handwavingly, it seems that the Lebesgue formula for expectation of $X$ does correspond intuitively to the Riemann one. I'm not sure if that's enough to put your own mind approximately at rest, but personally this makes me feel fairly comfortable with using, in a Lebesgue setting:\n",
    "\n",
    "$$\n",
    "\\mathbb{E}[X] = \\int_\\Omega X\\,d\\mathbb{P}\n",
    "$$\n",
    "\n",
    "and understanding approximately what it means."
   ]
  }
 ],
 "metadata": {
  "kernelspec": {
   "display_name": "Python 3",
   "language": "python",
   "name": "python3"
  },
  "language_info": {
   "codemirror_mode": {
    "name": "ipython",
    "version": 3
   },
   "file_extension": ".py",
   "mimetype": "text/x-python",
   "name": "python",
   "nbconvert_exporter": "python",
   "pygments_lexer": "ipython3",
   "version": "3.5.2"
  }
 },
 "nbformat": 4,
 "nbformat_minor": 2
}
